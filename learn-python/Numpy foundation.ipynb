{
 "cells": [
  {
   "cell_type": "markdown",
   "metadata": {},
   "source": [
    "#### NumPy基础-数组和矢量计算"
   ]
  },
  {
   "cell_type": "markdown",
   "metadata": {},
   "source": [
    "##### 高效处理大量数据，速度是内置纯python的10到100倍\n",
    "- 使用连续的内存块存储数据，独立于其他python内置对象\n",
    "- Numpy中C语言编写的算法库可以操作内存，而不必进行类型检查或其他前期的工作\n",
    "- 占用的内存更少\n",
    "- 可以在整个数组上执行复杂的计算，而不需要python的for循环、列表推导式等"
   ]
  },
  {
   "cell_type": "code",
   "execution_count": 2,
   "metadata": {},
   "outputs": [
    {
     "name": "stdout",
     "output_type": "stream",
     "text": [
      "Wall time: 31.9 ms\n",
      "Wall time: 1.3 s\n"
     ]
    }
   ],
   "source": [
    " import numpy as np\n",
    "\n",
    "my_arr = np.arange(1000000)\n",
    "\n",
    "my_list = list(range(1000000))\n",
    "%time for _ in range(10): my_arr2 = my_arr * 2\n",
    "%time for _ in range(10): my_list2 = [x * 2 for x in my_list]"
   ]
  },
  {
   "cell_type": "markdown",
   "metadata": {},
   "source": [
    "##### ndarray\n",
    "- 一种多维数组对象\n",
    "- 个人理解：可以直接对数据块进行数据运算，而不需要在for循环中写\n",
    "- list、tuple等与数字相乘是将元素的数量复制\n",
    "- 同构数据多维容器，内部元素数据类型必须一致"
   ]
  },
  {
   "cell_type": "code",
   "execution_count": 40,
   "metadata": {},
   "outputs": [
    {
     "name": "stdout",
     "output_type": "stream",
     "text": [
      "[[-0.45664989  0.24770378  0.29387936]\n",
      " [-1.04888287  0.21683247 -1.30767515]]\n",
      "[1, 2, 3, 4, 5, 6, 7, 8, 9, 10, 1, 2, 3, 4, 5, 6, 7, 8, 9, 10, 1, 2, 3, 4, 5, 6, 7, 8, 9, 10]\n",
      "[[-1.36994967  0.74311134  0.88163809]\n",
      " [-3.1466486   0.65049741 -3.92302545]]\n",
      "[[-0.91329978  0.49540756  0.58775872]\n",
      " [-2.09776573  0.43366494 -2.6153503 ]]\n",
      "(2, 3)\n",
      "float64\n",
      "2\n"
     ]
    }
   ],
   "source": [
    "ll = list(range(1,11))\n",
    "data = np.random.randn(2,3)\n",
    "print(data)\n",
    "# 列表元素复制3倍\n",
    "print(ll * 3)\n",
    "# ndarray内元素乘3\n",
    "#乘法\n",
    "print(data * 3)\n",
    "# 加法\n",
    "print(data + data)\n",
    "\n",
    "#各维度大小\n",
    "print(data.shape)\n",
    "\n",
    "#数组类型\n",
    "print(data.dtype)\n",
    "\n",
    "#数组维度\n",
    "print(data.ndim)"
   ]
  },
  {
   "cell_type": "markdown",
   "metadata": {},
   "source": [
    "*要注意使用 *import numpy as np*，而不是使用*from numpy import *，因为numpy中很多函数和方法，且有一些与python内置函数重名。* "
   ]
  },
  {
   "cell_type": "markdown",
   "metadata": {},
   "source": [
    "###### 创建ndarray\n",
    "- array方法创建，接受一切序列型的对象，包括其他数组\n",
    "- zeros、ones分别可以创建指定长度或形状全0或全1数组，empty可以创建一个没有任何具体值的数组\n",
    "- 通过arange方法创建方法创建"
   ]
  },
  {
   "cell_type": "code",
   "execution_count": 42,
   "metadata": {},
   "outputs": [
    {
     "data": {
      "text/plain": [
       "array([1, 2, 3, 4, 5, 6])"
      ]
     },
     "execution_count": 42,
     "metadata": {},
     "output_type": "execute_result"
    }
   ],
   "source": [
    "data1 = [1,2,3,4,5,6]\n",
    "# 接受列表\n",
    "arr = np.array(data1)\n",
    "arr.shape\n",
    "arr.ndim\n",
    "arr"
   ]
  },
  {
   "cell_type": "code",
   "execution_count": 44,
   "metadata": {},
   "outputs": [
    {
     "data": {
      "text/plain": [
       "2"
      ]
     },
     "execution_count": 44,
     "metadata": {},
     "output_type": "execute_result"
    }
   ],
   "source": [
    "data2 = [[1,2,3],[4,5,6]]\n",
    "# 接受嵌套序列\n",
    "arr2 = np.array(data2)\n",
    "arr2.shape\n",
    "arr2.ndim"
   ]
  },
  {
   "cell_type": "code",
   "execution_count": 6,
   "metadata": {},
   "outputs": [
    {
     "name": "stdout",
     "output_type": "stream",
     "text": [
      "[0.  0.1 0.2 0.3 0.4 0.5 0.6 0.7 0.8 0.9 1.  1.1 1.2 1.3 1.4 1.5 1.6 1.7\n",
      " 1.8 1.9 2.  2.1 2.2 2.3 2.4 2.5 2.6 2.7 2.8 2.9 3.  3.1 3.2 3.3 3.4 3.5\n",
      " 3.6 3.7 3.8 3.9 4.  4.1 4.2 4.3 4.4 4.5 4.6 4.7 4.8 4.9 5.  5.1 5.2 5.3\n",
      " 5.4 5.5 5.6 5.7 5.8 5.9 6.  6.1 6.2 6.3 6.4 6.5 6.6 6.7 6.8 6.9 7.  7.1\n",
      " 7.2 7.3 7.4 7.5 7.6 7.7 7.8 7.9 8.  8.1 8.2 8.3 8.4 8.5 8.6 8.7 8.8 8.9\n",
      " 9.  9.1 9.2 9.3 9.4 9.5 9.6 9.7 9.8 9.9]\n"
     ]
    }
   ],
   "source": [
    "# 创建ndarray的方法\n",
    "np.zeros(10)\n",
    "np.ones((2,4))\n",
    "np.empty((2,3,2))\n",
    "np.arange(10)\n",
    "print(np.arange(0,10,0.1))"
   ]
  },
  {
   "cell_type": "markdown",
   "metadata": {},
   "source": [
    "###### ndarray数据类型\n",
    "- 可以在创建时指定dtype，将这一块内存指定为特定数据类型\n",
    "- 要注意不同的数据类型所占的空间，尤其在处理大数据集时，就要控制存储类型,例如双精度浮点值就要占8个字节，即64位"
   ]
  },
  {
   "cell_type": "code",
   "execution_count": 53,
   "metadata": {},
   "outputs": [
    {
     "data": {
      "text/plain": [
       "array([1., 2., 3.])"
      ]
     },
     "execution_count": 53,
     "metadata": {},
     "output_type": "execute_result"
    }
   ],
   "source": [
    "arr1 = np.array([1,2.,3], dtype=np.float64)\n",
    "arr1"
   ]
  },
  {
   "cell_type": "markdown",
   "metadata": {},
   "source": [
    "- 可以使用astype将已有的数组转为其他数据类型\n",
    "- 浮点数转为整数，小数部分会被截断\n",
    "- 可将已有数组的类型传入到另外一个数组中\n",
    "- **调用astype无论如何都会创建一个新的数组，原始数据会被拷贝**"
   ]
  },
  {
   "cell_type": "code",
   "execution_count": 58,
   "metadata": {},
   "outputs": [
    {
     "data": {
      "text/plain": [
       "array([1, 0, 0])"
      ]
     },
     "execution_count": 58,
     "metadata": {},
     "output_type": "execute_result"
    }
   ],
   "source": [
    "# 浮点数转为整数，小数部分被截断\n",
    "arr = np.array([3.7,1.2,-2.6,10.1])\n",
    "new_arr = arr.astype(np.int32)\n",
    "# 传入arr数组的类型\n",
    "arr1 = np.array([1,.2,.3])\n",
    "arr1.astype(new_arr.dtype)"
   ]
  },
  {
   "cell_type": "markdown",
   "metadata": {},
   "source": [
    "###### 数组与标量之间的运算\n",
    "- 不用编写循环即可以对数据执行批量运算，这通常叫做矢量化（vectorizaiton）\n",
    "- 大小相同的数组之间的任何算数运算都会将运算应用到元素级上\n",
    "- 不同大小的数组之间的运算叫做广播（broadcasting）"
   ]
  },
  {
   "cell_type": "code",
   "execution_count": 60,
   "metadata": {},
   "outputs": [
    {
     "data": {
      "text/plain": [
       "array([ 0.27027027,  0.83333333, -0.38461538,  0.0990099 ])"
      ]
     },
     "execution_count": 60,
     "metadata": {},
     "output_type": "execute_result"
    }
   ],
   "source": [
    "arr * arr\n",
    "1/arr"
   ]
  },
  {
   "cell_type": "markdown",
   "metadata": {},
   "source": [
    "###### 基本的索引\n",
    "- 在对数组一个切片进行赋值时，赋值会自动传播或称广播到整个选区\n",
    "- 视图上的任何修改都会直接反映到源数据组上\n",
    "- 若想得到ndarray切片的一份副本而非视图，就需要显式地进行复制操作 切片.copy()\n",
    "- numpy设计的目的是处理大数据，如果将数据来回复制，必然产生内存和性能的问题\n",
    "- 高维数组其实本质是一样的，需要注意的是索引和赋值时的维度"
   ]
  },
  {
   "cell_type": "code",
   "execution_count": 85,
   "metadata": {},
   "outputs": [
    {
     "name": "stdout",
     "output_type": "stream",
     "text": [
      "10.1\n",
      "[66. 66.]\n",
      "[5.5555 5.5555]\n"
     ]
    }
   ],
   "source": [
    "print(arr[3])\n",
    "print(arr[1:3])\n",
    "# 赋值&&传播\n",
    "arr[1:3] = 5.5555\n",
    "print(arr[1:3])"
   ]
  },
  {
   "cell_type": "code",
   "execution_count": 90,
   "metadata": {},
   "outputs": [
    {
     "name": "stdout",
     "output_type": "stream",
     "text": [
      "[  3.7      5.5555 234.     234.    ]\n"
     ]
    },
    {
     "data": {
      "text/plain": [
       "array([  3.7, 666. , 666. , 666. ])"
      ]
     },
     "execution_count": 90,
     "metadata": {},
     "output_type": "execute_result"
    }
   ],
   "source": [
    "arr_slice = arr[1:4]\n",
    "arr_slice[1:3] = 234\n",
    "print(arr)\n",
    "arr_slice[:] = 666\n",
    "arr"
   ]
  },
  {
   "cell_type": "code",
   "execution_count": 108,
   "metadata": {},
   "outputs": [
    {
     "data": {
      "text/plain": [
       "array([[[0, 1, 2, 3, 4, 5, 6, 7, 8, 9]],\n",
       "\n",
       "       [[0, 1, 2, 3, 4, 5, 6, 7, 8, 9]],\n",
       "\n",
       "       [[0, 1, 2, 3, 4, 5, 6, 7, 8, 9]]])"
      ]
     },
     "execution_count": 108,
     "metadata": {},
     "output_type": "execute_result"
    }
   ],
   "source": [
    "# 高维数组操作\n",
    "arr2d = np.array([[range(10)],[range(10)],[range(10)]])\n",
    "arr2d"
   ]
  },
  {
   "cell_type": "code",
   "execution_count": 109,
   "metadata": {},
   "outputs": [
    {
     "data": {
      "text/plain": [
       "array([[[42, 42, 42, 42, 42, 42, 42, 42, 42, 42]],\n",
       "\n",
       "       [[ 0,  1,  2,  3,  4,  5,  6,  7,  8,  9]],\n",
       "\n",
       "       [[ 0,  1,  2,  3,  4,  5,  6,  7,  8,  9]]])"
      ]
     },
     "execution_count": 109,
     "metadata": {},
     "output_type": "execute_result"
    }
   ],
   "source": [
    "arr2d[0] = 42\n",
    "arr2d"
   ]
  },
  {
   "cell_type": "markdown",
   "metadata": {},
   "source": [
    "###### 切片索引\n",
    "- ndarray一维切片与python列表这样的一维对象差不多"
   ]
  },
  {
   "cell_type": "code",
   "execution_count": 9,
   "metadata": {},
   "outputs": [
    {
     "data": {
      "text/plain": [
       "array([2, 3, 4, 5])"
      ]
     },
     "execution_count": 9,
     "metadata": {},
     "output_type": "execute_result"
    }
   ],
   "source": [
    "arr = np.array([1,2,3,4,5,6])\n",
    "arr[1:5]"
   ]
  },
  {
   "cell_type": "markdown",
   "metadata": {},
   "source": [
    "- 高维切片的方式主要从轴向出发，沿轴切片，不指定轴，默认从第一个轴选取元素"
   ]
  },
  {
   "cell_type": "code",
   "execution_count": 14,
   "metadata": {},
   "outputs": [
    {
     "data": {
      "text/plain": [
       "array([[1, 2, 3],\n",
       "       [4, 5, 6]])"
      ]
     },
     "execution_count": 14,
     "metadata": {},
     "output_type": "execute_result"
    }
   ],
   "source": [
    "arr2d = np.array([[1,2,3],[4,5,6],[7,8,9]])\n",
    "arr2d[:2] #沿着竖轴切片"
   ]
  },
  {
   "cell_type": "code",
   "execution_count": 101,
   "metadata": {},
   "outputs": [
    {
     "name": "stdout",
     "output_type": "stream",
     "text": [
      "[[[ 1  2]\n",
      "  [ 3  4]]\n",
      "\n",
      " [[ 5  6]\n",
      "  [ 7  8]]\n",
      "\n",
      " [[ 9 10]\n",
      "  [11 12]]]\n"
     ]
    },
    {
     "data": {
      "text/plain": [
       "array([[[1, 2]],\n",
       "\n",
       "       [[5, 6]]])"
      ]
     },
     "execution_count": 101,
     "metadata": {},
     "output_type": "execute_result"
    }
   ],
   "source": [
    "arr3d = np.array([[[1,2],[3,4]],[[5,6],[7,8]],[[9,10],[11,12]]])\n",
    "print(arr3d)\n",
    "arr3d[:2,:1]"
   ]
  },
  {
   "cell_type": "code",
   "execution_count": 22,
   "metadata": {},
   "outputs": [
    {
     "data": {
      "text/plain": [
       "array([[[1]],\n",
       "\n",
       "       [[5]]])"
      ]
     },
     "execution_count": 22,
     "metadata": {},
     "output_type": "execute_result"
    }
   ],
   "source": [
    "arr3d[:2,:1,:1]"
   ]
  },
  {
   "cell_type": "markdown",
   "metadata": {},
   "source": [
    "- 上面这种切片方式只能得到相同维度的数组视图，冒号代表选取整个轴\n",
    "- 通过将整数索引与切片混合的方式可以得到低维度的切片(整数代表选取的维度中的一维)"
   ]
  },
  {
   "cell_type": "code",
   "execution_count": 24,
   "metadata": {},
   "outputs": [
    {
     "data": {
      "text/plain": [
       "array([[1, 2],\n",
       "       [3, 4]])"
      ]
     },
     "execution_count": 24,
     "metadata": {},
     "output_type": "execute_result"
    }
   ],
   "source": [
    "arr3d[0,:2]"
   ]
  },
  {
   "cell_type": "code",
   "execution_count": 26,
   "metadata": {},
   "outputs": [
    {
     "data": {
      "text/plain": [
       "array([[9]])"
      ]
     },
     "execution_count": 26,
     "metadata": {},
     "output_type": "execute_result"
    }
   ],
   "source": [
    "arr3d[2,:1,:1]  #选取最后一个数组中，第一个列表的第一个元素"
   ]
  },
  {
   "cell_type": "markdown",
   "metadata": {},
   "source": [
    "- 冒号与不添加冒号对比"
   ]
  },
  {
   "cell_type": "code",
   "execution_count": 30,
   "metadata": {},
   "outputs": [
    {
     "data": {
      "text/plain": [
       "array([[[ 9],\n",
       "        [11]]])"
      ]
     },
     "execution_count": 30,
     "metadata": {},
     "output_type": "execute_result"
    }
   ],
   "source": [
    "arr3d[-1:,:,:1]  #整数-1代表最后一个，冒号代表整个轴"
   ]
  },
  {
   "cell_type": "code",
   "execution_count": 31,
   "metadata": {},
   "outputs": [
    {
     "data": {
      "text/plain": [
       "array([[[ 9, 10]]])"
      ]
     },
     "execution_count": 31,
     "metadata": {},
     "output_type": "execute_result"
    }
   ],
   "source": [
    "arr3d[-1:,:1]"
   ]
  },
  {
   "cell_type": "markdown",
   "metadata": {},
   "source": [
    "- 对切片表达式的赋值也会广播到整个选区"
   ]
  },
  {
   "cell_type": "code",
   "execution_count": 99,
   "metadata": {},
   "outputs": [
    {
     "name": "stdout",
     "output_type": "stream",
     "text": [
      "[[[ 1  0]\n",
      "  [ 3  0]]\n",
      "\n",
      " [[ 5  0]\n",
      "  [ 7  0]]\n",
      "\n",
      " [[ 9  0]\n",
      "  [11  0]]]\n"
     ]
    },
    {
     "data": {
      "text/plain": [
       "array([[[ 3,  0]],\n",
       "\n",
       "       [[ 7,  0]],\n",
       "\n",
       "       [[11,  0]]])"
      ]
     },
     "execution_count": 99,
     "metadata": {},
     "output_type": "execute_result"
    }
   ],
   "source": [
    "arr3d[:,:,-1:] = 0 #找到列表中最后一个元素，赋值为0\n",
    "print(arr3d)\n",
    "arr3d[:,-1:]"
   ]
  },
  {
   "cell_type": "markdown",
   "metadata": {},
   "source": [
    "###### 布尔型索引\n",
    "- 数组的比较运算也是矢量化的"
   ]
  },
  {
   "cell_type": "code",
   "execution_count": 63,
   "metadata": {},
   "outputs": [
    {
     "name": "stdout",
     "output_type": "stream",
     "text": [
      "['Bob' 'Joe' 'Will' 'Bob' 'Will' 'Joe' 'Joe']\n",
      "[[-0.63701615 -0.06376062  0.69585939  0.10945706]\n",
      " [-0.97944937 -0.30974647  1.24323123  1.19624871]\n",
      " [ 2.1017253  -0.29778746 -0.23660301  0.37227097]\n",
      " [ 2.22638506 -0.30476552  1.01003157 -0.6791929 ]\n",
      " [-0.1049328  -1.15896855  0.08494086  0.27167377]\n",
      " [ 1.80679737  0.39574461 -1.43315823  1.31850162]\n",
      " [-1.72153938  0.0493055   1.11043341  0.62209046]]\n"
     ]
    },
    {
     "data": {
      "text/plain": [
       "array([ True, False, False,  True, False, False, False])"
      ]
     },
     "execution_count": 63,
     "metadata": {},
     "output_type": "execute_result"
    }
   ],
   "source": [
    "names = np.array(['Bob', 'Joe', 'Will', 'Bob', 'Will', 'Joe', 'Joe'])\n",
    "data = np.random.randn(7, 4)\n",
    "print(names)\n",
    "print(data)\n",
    "names == 'Bob' #矢量化产生数组"
   ]
  },
  {
   "cell_type": "markdown",
   "metadata": {},
   "source": [
    "- 上面的布尔型数组可以用作数组索引\n",
    "- 还可将布尔型数组跟切片、整数混合使用\n",
    "- 除了使用等号，还可以使用(!=)(-)(|)(&)(> < )等多个布尔条件混合\n",
    "- 使用~符号反转布尔型\n",
    "- **与切片不同的是，使用布尔型索引选取数组中的数据，总是创建数据的副本，而不是修改数组的视图**"
   ]
  },
  {
   "cell_type": "code",
   "execution_count": 64,
   "metadata": {},
   "outputs": [
    {
     "name": "stdout",
     "output_type": "stream",
     "text": [
      "[[-0.63701615 -0.06376062  0.69585939  0.10945706]\n",
      " [ 2.22638506 -0.30476552  1.01003157 -0.6791929 ]]\n",
      "[[-0.63701615]\n",
      " [ 2.22638506]]\n",
      "[[-0.97944937 -0.30974647  1.24323123  1.19624871]\n",
      " [ 2.1017253  -0.29778746 -0.23660301  0.37227097]\n",
      " [-0.1049328  -1.15896855  0.08494086  0.27167377]\n",
      " [ 1.80679737  0.39574461 -1.43315823  1.31850162]\n",
      " [-1.72153938  0.0493055   1.11043341  0.62209046]]\n"
     ]
    }
   ],
   "source": [
    "print(data[names == 'Bob'])\n",
    "print(data[names == 'Bob',:1])\n",
    "print(data[~(names == 'Bob')])"
   ]
  },
  {
   "cell_type": "code",
   "execution_count": 65,
   "metadata": {},
   "outputs": [
    {
     "data": {
      "text/plain": [
       "array([ True, False,  True,  True,  True, False, False])"
      ]
     },
     "execution_count": 65,
     "metadata": {},
     "output_type": "execute_result"
    }
   ],
   "source": [
    "mask = (names == 'Bob') | (names == 'Will')\n",
    "mask"
   ]
  },
  {
   "cell_type": "code",
   "execution_count": 66,
   "metadata": {},
   "outputs": [
    {
     "data": {
      "text/plain": [
       "array([[-0.63701615, -0.06376062,  0.69585939,  0.10945706],\n",
       "       [ 2.1017253 , -0.29778746, -0.23660301,  0.37227097],\n",
       "       [ 2.22638506, -0.30476552,  1.01003157, -0.6791929 ],\n",
       "       [-0.1049328 , -1.15896855,  0.08494086,  0.27167377]])"
      ]
     },
     "execution_count": 66,
     "metadata": {},
     "output_type": "execute_result"
    }
   ],
   "source": [
    "data[mask]"
   ]
  },
  {
   "cell_type": "markdown",
   "metadata": {},
   "source": [
    "- **通过布尔型数组设置值非常常见！！**\n",
    "- 通过一维布尔数组设置整行或列的值也很简单"
   ]
  },
  {
   "cell_type": "code",
   "execution_count": 67,
   "metadata": {},
   "outputs": [
    {
     "name": "stdout",
     "output_type": "stream",
     "text": [
      "[[-0.63701615 -0.06376062  0.          0.        ]\n",
      " [-0.97944937 -0.30974647  0.          0.        ]\n",
      " [ 0.         -0.29778746 -0.23660301  0.        ]\n",
      " [ 0.         -0.30476552  0.         -0.6791929 ]\n",
      " [-0.1049328  -1.15896855  0.08494086  0.        ]\n",
      " [ 0.          0.         -1.43315823  0.        ]\n",
      " [-1.72153938  0.0493055   0.          0.        ]]\n",
      "[[ 7.          7.          7.          7.        ]\n",
      " [-0.97944937 -0.30974647  0.          0.        ]\n",
      " [ 0.         -0.29778746 -0.23660301  0.        ]\n",
      " [ 7.          7.          7.          7.        ]\n",
      " [-0.1049328  -1.15896855  0.08494086  0.        ]\n",
      " [ 0.          0.         -1.43315823  0.        ]\n",
      " [-1.72153938  0.0493055   0.          0.        ]]\n"
     ]
    }
   ],
   "source": [
    "data[data>0.1] = 0 #将data中大于0.1的数值都设为0\n",
    "print(data)\n",
    "data[names == 'Bob'] = 7\n",
    "print(data)"
   ]
  },
  {
   "cell_type": "markdown",
   "metadata": {},
   "source": [
    "###### 花式索引(Fancy indexing)\n",
    "- 利用整数数组进行索引\n",
    "- 花式索引也是返回新数组，与切片不同"
   ]
  },
  {
   "cell_type": "code",
   "execution_count": 68,
   "metadata": {},
   "outputs": [
    {
     "name": "stdout",
     "output_type": "stream",
     "text": [
      "[[0. 0. 0. 0.]\n",
      " [1. 1. 1. 1.]\n",
      " [2. 2. 2. 2.]\n",
      " [3. 3. 3. 3.]\n",
      " [4. 4. 4. 4.]\n",
      " [5. 5. 5. 5.]\n",
      " [6. 6. 6. 6.]\n",
      " [7. 7. 7. 7.]]\n"
     ]
    }
   ],
   "source": [
    "arr = np.empty((8, 4))\n",
    "for i in range(8):\n",
    "    arr[i] = i\n",
    "print(arr)"
   ]
  },
  {
   "cell_type": "code",
   "execution_count": 70,
   "metadata": {},
   "outputs": [
    {
     "data": {
      "text/plain": [
       "array([[4., 4., 4., 4.],\n",
       "       [3., 3., 3., 3.],\n",
       "       [2., 2., 2., 2.],\n",
       "       [1., 1., 1., 1.]])"
      ]
     },
     "execution_count": 70,
     "metadata": {},
     "output_type": "execute_result"
    }
   ],
   "source": [
    "arr[[4,3,2,1]] #传入一个指定顺序的整数序列即可返回指定行"
   ]
  },
  {
   "cell_type": "markdown",
   "metadata": {},
   "source": [
    "- 一次传入多个索引数组返回的是一个一维数组，其中的元素对应各个索引元组\n",
    "- 若想返回行的子集，需要用冒号或np.ix_"
   ]
  },
  {
   "cell_type": "code",
   "execution_count": 76,
   "metadata": {},
   "outputs": [
    {
     "name": "stdout",
     "output_type": "stream",
     "text": [
      "[[ 0  1  2  3]\n",
      " [ 4  5  6  7]\n",
      " [ 8  9 10 11]\n",
      " [12 13 14 15]\n",
      " [16 17 18 19]\n",
      " [20 21 22 23]\n",
      " [24 25 26 27]\n",
      " [28 29 30 31]]\n"
     ]
    }
   ],
   "source": [
    "arr = np.arange(32).reshape((8,4))\n",
    "print(arr)"
   ]
  },
  {
   "cell_type": "code",
   "execution_count": 81,
   "metadata": {},
   "outputs": [
    {
     "name": "stdout",
     "output_type": "stream",
     "text": [
      "[16 13 10  7]\n",
      "[[16 17 18]\n",
      " [12 13 14]\n",
      " [ 8  9 10]\n",
      " [ 4  5  6]]\n",
      "[[16 17 18]\n",
      " [12 13 14]\n",
      " [ 8  9 10]\n",
      " [ 4  5  6]]\n"
     ]
    }
   ],
   "source": [
    "print(arr[[4,3,2,1],[0,1,2,3]])  #返回的是选取的那行的对应的元素\n",
    "print(arr[[4,3,2,1]][:,[0,1,2]]) #返回选取行的前3个数\n",
    "print(arr[np.ix_([4,3,2,1],[0,1,2])]) #返回选取行的前3个数"
   ]
  },
  {
   "cell_type": "markdown",
   "metadata": {},
   "source": [
    "######  数据转置和轴对换\n",
    "- **转置返回的是源数据的视图，不会进行复制操作**\n",
    "- 高维数组，转置需要得到一个由轴编号组成的元组才能对这些轴进行转置\n",
    "- ndarray还有一个swapaxes方法，它需要接受一对轴编号，返回源数据的视图"
   ]
  },
  {
   "cell_type": "code",
   "execution_count": 83,
   "metadata": {},
   "outputs": [
    {
     "data": {
      "text/plain": [
       "array([[ 0,  1,  2,  3,  4],\n",
       "       [ 5,  6,  7,  8,  9],\n",
       "       [10, 11, 12, 13, 14]])"
      ]
     },
     "execution_count": 83,
     "metadata": {},
     "output_type": "execute_result"
    }
   ],
   "source": [
    "arr = np.arange(15).reshape((3, 5))\n",
    "arr"
   ]
  },
  {
   "cell_type": "code",
   "execution_count": 84,
   "metadata": {},
   "outputs": [
    {
     "data": {
      "text/plain": [
       "array([[ 0,  5, 10],\n",
       "       [ 1,  6, 11],\n",
       "       [ 2,  7, 12],\n",
       "       [ 3,  8, 13],\n",
       "       [ 4,  9, 14]])"
      ]
     },
     "execution_count": 84,
     "metadata": {},
     "output_type": "execute_result"
    }
   ],
   "source": [
    "arr.T"
   ]
  },
  {
   "cell_type": "code",
   "execution_count": 85,
   "metadata": {},
   "outputs": [
    {
     "data": {
      "text/plain": [
       "array([[125, 140, 155, 170, 185],\n",
       "       [140, 158, 176, 194, 212],\n",
       "       [155, 176, 197, 218, 239],\n",
       "       [170, 194, 218, 242, 266],\n",
       "       [185, 212, 239, 266, 293]])"
      ]
     },
     "execution_count": 85,
     "metadata": {},
     "output_type": "execute_result"
    }
   ],
   "source": [
    "np.dot(arr.T, arr) #计算矩阵内积"
   ]
  },
  {
   "cell_type": "markdown",
   "metadata": {},
   "source": [
    "- Transpose与swapaxes的转置内涵就是将shape索引置换，例如其中元素8的索引是（1,0,0），通过transpose(1,0,2)的转换，意思为一维与二维之间的索引互换，三维不变，那么元素8的新位置为(0,1,0)"
   ]
  },
  {
   "cell_type": "code",
   "execution_count": 97,
   "metadata": {},
   "outputs": [
    {
     "name": "stdout",
     "output_type": "stream",
     "text": [
      "[[[ 0  1  2  3]\n",
      "  [ 4  5  6  7]]\n",
      "\n",
      " [[ 8  9 10 11]\n",
      "  [12 13 14 15]]]\n",
      "8\n",
      "4\n",
      "0\n",
      "1\n"
     ]
    }
   ],
   "source": [
    "arr = np.arange(16).reshape((2, 2, 4))\n",
    "print(arr)\n",
    "print(arr[1,0,0])\n",
    "print(arr[0,1,0])\n",
    "print(arr[0,0,0])  #置换后仍为（0,0,0）\n",
    "print(arr[0,0,1])  #置换后仍为（0,0,1）"
   ]
  },
  {
   "cell_type": "code",
   "execution_count": 89,
   "metadata": {},
   "outputs": [
    {
     "data": {
      "text/plain": [
       "array([[[ 0,  1,  2,  3],\n",
       "        [ 8,  9, 10, 11]],\n",
       "\n",
       "       [[ 4,  5,  6,  7],\n",
       "        [12, 13, 14, 15]]])"
      ]
     },
     "execution_count": 89,
     "metadata": {},
     "output_type": "execute_result"
    }
   ],
   "source": [
    " arr.transpose((1, 0, 2))"
   ]
  },
  {
   "cell_type": "code",
   "execution_count": 90,
   "metadata": {},
   "outputs": [
    {
     "data": {
      "text/plain": [
       "array([[[ 0,  4],\n",
       "        [ 1,  5],\n",
       "        [ 2,  6],\n",
       "        [ 3,  7]],\n",
       "\n",
       "       [[ 8, 12],\n",
       "        [ 9, 13],\n",
       "        [10, 14],\n",
       "        [11, 15]]])"
      ]
     },
     "execution_count": 90,
     "metadata": {},
     "output_type": "execute_result"
    }
   ],
   "source": [
    "arr.swapaxes(1, 2) #将索引（0,1,2）对换为(0,2,1)"
   ]
  },
  {
   "cell_type": "code",
   "execution_count": null,
   "metadata": {},
   "outputs": [],
   "source": []
  },
  {
   "cell_type": "code",
   "execution_count": null,
   "metadata": {},
   "outputs": [],
   "source": []
  },
  {
   "cell_type": "code",
   "execution_count": null,
   "metadata": {},
   "outputs": [],
   "source": []
  },
  {
   "cell_type": "code",
   "execution_count": null,
   "metadata": {},
   "outputs": [],
   "source": []
  }
 ],
 "metadata": {
  "kernelspec": {
   "display_name": "Python 3",
   "language": "python",
   "name": "python3"
  },
  "language_info": {
   "codemirror_mode": {
    "name": "ipython",
    "version": 3
   },
   "file_extension": ".py",
   "mimetype": "text/x-python",
   "name": "python",
   "nbconvert_exporter": "python",
   "pygments_lexer": "ipython3",
   "version": "3.7.0"
  }
 },
 "nbformat": 4,
 "nbformat_minor": 2
}
