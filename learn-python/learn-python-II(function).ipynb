{
 "cells": [
  {
   "cell_type": "markdown",
   "metadata": {},
   "source": [
    "#### 函数方法\n",
    "##### 基本概念\n",
    "- 位置参数与关键字参数，关键字参数需在位置参数的后面\n",
    "- 关键字参数没有顺序\n",
    "- 可以以关键字参数传递位置参数，这样可以忽略参数顺序\n",
    "- 命名空间分为全局与局部，局部主要为函数中的变量、函数中的函数等\n",
    "- global可以在局部函数中声明全局变量，但是不建议常用，真想用就用类"
   ]
  },
  {
   "cell_type": "code",
   "execution_count": 8,
   "metadata": {},
   "outputs": [],
   "source": [
    "a = []\n",
    "def myfunction(x, y, z = 1.5):\n",
    "    global a \n",
    "    a.append([x,y,z])\n",
    "    return z if x > y else y"
   ]
  },
  {
   "cell_type": "code",
   "execution_count": 9,
   "metadata": {},
   "outputs": [
    {
     "data": {
      "text/plain": [
       "1.5"
      ]
     },
     "execution_count": 9,
     "metadata": {},
     "output_type": "execute_result"
    }
   ],
   "source": [
    "myfunction(y=2, x=3)"
   ]
  },
  {
   "cell_type": "code",
   "execution_count": 10,
   "metadata": {},
   "outputs": [
    {
     "data": {
      "text/plain": [
       "4"
      ]
     },
     "execution_count": 10,
     "metadata": {},
     "output_type": "execute_result"
    }
   ],
   "source": [
    "myfunction(z=4,x=3,y=4)"
   ]
  },
  {
   "cell_type": "code",
   "execution_count": 46,
   "metadata": {},
   "outputs": [
    {
     "data": {
      "text/plain": [
       "[[3, 2, 1.5], [3, 4, 4]]"
      ]
     },
     "execution_count": 46,
     "metadata": {},
     "output_type": "execute_result"
    }
   ],
   "source": [
    "a"
   ]
  },
  {
   "cell_type": "markdown",
   "metadata": {},
   "source": [
    "##### 扩展调用语法和\\*args、 \\**kwargs\n",
    "- 位置参数在传入函数时被封装为元组，即元组args\n",
    "- 关键字参数在传入函数时被封装为字典，即字典kwargs\n",
    "- **加上 “参数 = 数据” 这种形式的传参一定是被封装为关键字参数，而不加，即使占位上是关键字参数，也会被封装成元组**\n",
    "- ''func(a,b,c, d=some, e=value)'' 的内部转换为："
   ]
  },
  {
   "cell_type": "code",
   "execution_count": 60,
   "metadata": {},
   "outputs": [
    {
     "ename": "NameError",
     "evalue": "name 'args' is not defined",
     "output_type": "error",
     "traceback": [
      "\u001b[1;31m---------------------------------------------------------------------------\u001b[0m",
      "\u001b[1;31mNameError\u001b[0m                                 Traceback (most recent call last)",
      "\u001b[1;32m<ipython-input-60-4c7d0cb4f74e>\u001b[0m in \u001b[0;36m<module>\u001b[1;34m()\u001b[0m\n\u001b[1;32m----> 1\u001b[1;33m \u001b[0ma\u001b[0m\u001b[1;33m,\u001b[0m\u001b[0mb\u001b[0m\u001b[1;33m,\u001b[0m\u001b[0mc\u001b[0m \u001b[1;33m=\u001b[0m \u001b[0margs\u001b[0m\u001b[1;33m\u001b[0m\u001b[0m\n\u001b[0m\u001b[0;32m      2\u001b[0m \u001b[0md\u001b[0m \u001b[1;33m=\u001b[0m \u001b[0mkwargs\u001b[0m\u001b[1;33m.\u001b[0m\u001b[0mget\u001b[0m\u001b[1;33m(\u001b[0m\u001b[1;34m'd'\u001b[0m\u001b[1;33m,\u001b[0m \u001b[0md_default_value\u001b[0m\u001b[1;33m)\u001b[0m\u001b[1;33m\u001b[0m\u001b[0m\n\u001b[0;32m      3\u001b[0m \u001b[0me\u001b[0m \u001b[1;33m=\u001b[0m \u001b[0mkwargs\u001b[0m\u001b[1;33m.\u001b[0m\u001b[0mget\u001b[0m\u001b[1;33m(\u001b[0m\u001b[1;34m'e'\u001b[0m\u001b[1;33m,\u001b[0m \u001b[0me_default_value\u001b[0m\u001b[1;33m)\u001b[0m\u001b[1;33m\u001b[0m\u001b[0m\n",
      "\u001b[1;31mNameError\u001b[0m: name 'args' is not defined"
     ]
    }
   ],
   "source": [
    "a,b,c = args\n",
    "d = kwargs.get('d', d_default_value)\n",
    "e = kwargs.get('e', e_default_value)"
   ]
  },
  {
   "cell_type": "code",
   "execution_count": 64,
   "metadata": {},
   "outputs": [
    {
     "name": "stdout",
     "output_type": "stream",
     "text": [
      "arg is ()\n",
      "kwargs is {'x': 1.5, 'y': 2.0, 'z': 3456}\n",
      "Hello, I'm going to call <function g at 0x00000216EEDAB7B8>\n"
     ]
    },
    {
     "data": {
      "text/plain": [
       "0.0010127314814814814"
      ]
     },
     "execution_count": 64,
     "metadata": {},
     "output_type": "execute_result"
    }
   ],
   "source": [
    "# 一个例子，帮助更好的理解\n",
    "def say_hello_then_call_f(f, *args, **kwargs):\n",
    "    print('arg is', args)\n",
    "    print('kwargs is', kwargs)\n",
    "    print(\"Hello, I'm going to call %s\" % f)\n",
    "    return f(*args, **kwargs)\n",
    "def g(x, y, z=1):\n",
    "    return (x+y)/z\n",
    "say_hello_then_call_f(g, x = 1.5, y = 2.0, z = 3456)"
   ]
  },
  {
   "cell_type": "markdown",
   "metadata": {},
   "source": [
    "##### 返回多个值\n",
    "- 函数可以返回多个值，返回元组、字典，字典比较常用\n",
    "- 返回多个值可以用到元组拆分"
   ]
  },
  {
   "cell_type": "code",
   "execution_count": 18,
   "metadata": {},
   "outputs": [],
   "source": [
    "def f(a, b): \n",
    "    c = 3 \n",
    "    d = 4\n",
    "    return (a,b,c,d) if a > b else {'a':a,'b':b, 'c':c, 'd':d}"
   ]
  },
  {
   "cell_type": "code",
   "execution_count": 19,
   "metadata": {},
   "outputs": [
    {
     "data": {
      "text/plain": [
       "{'a': 3, 'b': 4, 'c': 3, 'd': 4}"
      ]
     },
     "execution_count": 19,
     "metadata": {},
     "output_type": "execute_result"
    }
   ],
   "source": [
    "getdata = f(3,4)\n",
    "getdata"
   ]
  },
  {
   "cell_type": "code",
   "execution_count": 20,
   "metadata": {},
   "outputs": [
    {
     "data": {
      "text/plain": [
       "(4, 3, 3, 4)"
      ]
     },
     "execution_count": 20,
     "metadata": {},
     "output_type": "execute_result"
    }
   ],
   "source": [
    "getdata = f(4,3)\n",
    "getdata"
   ]
  },
  {
   "cell_type": "markdown",
   "metadata": {},
   "source": [
    "##### 函数亦对象\n",
    "- **函数也是对象，能放在列表中被循环调用，这种思想也没用过~！**"
   ]
  },
  {
   "cell_type": "code",
   "execution_count": 21,
   "metadata": {},
   "outputs": [
    {
     "data": {
      "text/plain": [
       "['Alabama',\n",
       " 'Georgia',\n",
       " 'Georgia',\n",
       " 'Georgia',\n",
       " 'Florida',\n",
       " 'South   Carolina',\n",
       " 'West Virginia']"
      ]
     },
     "execution_count": 21,
     "metadata": {},
     "output_type": "execute_result"
    }
   ],
   "source": [
    "states = ['   Alabama ', 'Georgia!', 'Georgia', 'georgia', \n",
    "          'FlOrIda','south   carolina##', 'West virginia?']\n",
    "import re\n",
    "clean_result = []\n",
    "for state in states:\n",
    "    state = state.strip()\n",
    "    state = re.sub('[!#?]','',state) #移除标点符号\n",
    "    state = state.title() #首字母大写\n",
    "    clean_result.append(state)\n",
    "clean_result"
   ]
  },
  {
   "cell_type": "markdown",
   "metadata": {},
   "source": [
    "- 将上述对列表states元素的执行的运算做成一个列表\n",
    "- 尝试使用了嵌套列表推导式，发现理解错误，这种情况仅限于嵌套列表，不是所有嵌套的for循环都可以使用\n",
    "- 函数还可以用作其他函数的参数，例如作为map函数的参数"
   ]
  },
  {
   "cell_type": "code",
   "execution_count": 33,
   "metadata": {},
   "outputs": [
    {
     "data": {
      "text/plain": [
       "['Alabama',\n",
       " 'Georgia',\n",
       " 'Georgia',\n",
       " 'Georgia',\n",
       " 'Florida',\n",
       " 'South   Carolina',\n",
       " 'West Virginia']"
      ]
     },
     "execution_count": 33,
     "metadata": {},
     "output_type": "execute_result"
    }
   ],
   "source": [
    "def remove_punctuation(value):\n",
    "    return re.sub('[!#?]', '', value)\n",
    "\n",
    "\n",
    "# 函数列表\n",
    "clean_ops = [str.strip, remove_punctuation, str.title]\n",
    "\n",
    "# 输入字符串和函数列表\n",
    "def clean_strings(strings, ops):\n",
    "    result = []\n",
    "#     value = [function(value) for funciton in ops for value in strings ]  错误用法\n",
    "    for value in strings:\n",
    "        for function in ops:\n",
    "            value = function(value)\n",
    "        result.append(value)\n",
    "    return result\n",
    "\n",
    "clean_strings(states, ops = clean_ops)"
   ]
  },
  {
   "cell_type": "markdown",
   "metadata": {},
   "source": [
    "##### 匿名函数（lambda）\n",
    "- 我认为匿名函数式为了省略编写def等字段创造，为了简略代码，可以用在简单的函数表达式中\n",
    "- 另外一个优点是，可以轻松将一个函数、表达式传入另一个函数中\n",
    "- 因为没有提供函数名称属性，所以被称为匿名函数\n",
    "- 语句的结果就是返回值"
   ]
  },
  {
   "cell_type": "code",
   "execution_count": 39,
   "metadata": {},
   "outputs": [
    {
     "data": {
      "text/plain": [
       "[2, 4, 6, 8, 10, 12]"
      ]
     },
     "execution_count": 39,
     "metadata": {},
     "output_type": "execute_result"
    }
   ],
   "source": [
    "def short_funciton(x):\n",
    "    return x * 2\n",
    "#匿名函数可将其改写\n",
    "func = lambda x:x *2\n",
    "ints = [1,2,3,4,5,6]\n",
    "data = (ints, func) #看来这样表达不会自动计算，需要使用推导式或直接在其中标明匿名函数\n",
    "data = (ints, lambda x: x * 2)  #仍然不对，需要添加迭代函数\n",
    "def datalist(ints, f):\n",
    "    return [f(x) for x in ints]   #轻松传入一个自定义函数给datalist\n",
    "datalist(ints, lambda x: x*2)"
   ]
  },
  {
   "cell_type": "code",
   "execution_count": 41,
   "metadata": {},
   "outputs": [
    {
     "data": {
      "text/plain": [
       "['foo', 'bar', 'card', 'aaaa', 'abab']"
      ]
     },
     "execution_count": 41,
     "metadata": {},
     "output_type": "execute_result"
    }
   ],
   "source": [
    "strings = ['foo', 'card', 'bar', 'aaaa', 'abab']\n",
    "strings.sort(key=len)\n",
    "strings"
   ]
  },
  {
   "cell_type": "code",
   "execution_count": 45,
   "metadata": {},
   "outputs": [
    {
     "data": {
      "text/plain": [
       "['aaaa', 'foo', 'abab', 'bar', 'card']"
      ]
     },
     "execution_count": 45,
     "metadata": {},
     "output_type": "execute_result"
    }
   ],
   "source": [
    "sorted(strings)  #依据字母排序\n",
    "strings.sort(key=lambda x: len(set(list(x)))) #不同字母的数量排序\n",
    "strings"
   ]
  },
  {
   "cell_type": "markdown",
   "metadata": {},
   "source": [
    "##### 闭包-返回函数的函数\n",
    "- 闭包我认为是返回嵌套函数中创建者的局部变量或内部嵌套函数\n",
    "- 可以解除函数调用完即销毁内部变量的限制，可以访问其创建者的局部命名空间"
   ]
  },
  {
   "cell_type": "code",
   "execution_count": 55,
   "metadata": {},
   "outputs": [
    {
     "data": {
      "text/plain": [
       "[1, 2, 3]"
      ]
     },
     "execution_count": 55,
     "metadata": {},
     "output_type": "execute_result"
    }
   ],
   "source": [
    "# 下列方法可以返回调用函数的次数\n",
    "def make_counter():\n",
    "    count = [0]\n",
    "    def counter():\n",
    "        count[0] += 1\n",
    "        return count[0]\n",
    "    return counter\n",
    "counter = make_counter()\n",
    "jishu = [4,5,7]\n",
    "[counter() for x in jishu]"
   ]
  },
  {
   "cell_type": "code",
   "execution_count": 59,
   "metadata": {},
   "outputs": [
    {
     "name": "stdout",
     "output_type": "stream",
     "text": [
      "{1: True}\n",
      "{1: True, 2: True}\n",
      "{1: True, 2: True, 4: True}\n",
      "{1: True, 2: True, 4: True, 5: True}\n",
      "{1: True, 2: True, 4: True, 5: True, 6: True}\n"
     ]
    },
    {
     "data": {
      "text/plain": [
       "[False, False, True, False, False, True, True, False, True]"
      ]
     },
     "execution_count": 59,
     "metadata": {},
     "output_type": "execute_result"
    }
   ],
   "source": [
    "# 下列方法能够记录其曾经传入的一切参数\n",
    "def make_watcher():\n",
    "    have_seen = {}\n",
    "    def has_been_seen(x):\n",
    "        if x in have_seen:\n",
    "            return True\n",
    "        else:\n",
    "            have_seen[x] = True\n",
    "            print(have_seen)\n",
    "            return False\n",
    "    return has_been_seen\n",
    "watcher = make_watcher()\n",
    "ints = [1,2,1,4,5,2,5,6,4]\n",
    "[watcher(x) for x in ints]\n",
    "                "
   ]
  },
  {
   "cell_type": "markdown",
   "metadata": {},
   "source": [
    "##### 柯里化：部分参数应用\n",
    "- 定义一个可以调用现有函数的新函数\n",
    "- 内置的functools模块可以用partial函数简化"
   ]
  },
  {
   "cell_type": "code",
   "execution_count": 8,
   "metadata": {},
   "outputs": [
    {
     "data": {
      "text/plain": [
       "15"
      ]
     },
     "execution_count": 8,
     "metadata": {},
     "output_type": "execute_result"
    }
   ],
   "source": [
    "import pandas\n",
    "from functools import partial\n",
    "\n",
    "\n",
    "def add_number(x, y):\n",
    "    return x+y\n",
    "\n",
    "# 第二个参数称为柯里化的（curried）\n",
    "# 将第一个参数设置为固定值\n",
    "\n",
    "\n",
    "def add_five(y): return add_number(5, y)\n",
    "\n",
    "\n",
    "add_five(6)\n",
    "add_five = partial(add_number, 5)\n",
    "add_five(10)\n",
    "# pandas时间序列的一个例子\n",
    "# 计算时间序列x的60日移动平均\n",
    "ma60 = lambda x: pandas.rolling_mean(x,60)\n",
    "# 计算data中所有时间序列的60日移动平均"
   ]
  },
  {
   "cell_type": "markdown",
   "metadata": {},
   "source": [
    "##### 生成器(Generator)\n",
    "- 以一种一致的方式对序列进行迭代，通过迭代器协议实现\n",
    "- 迭代器是一种特殊对象，大部分能接受列表之类的对象的方法，也都可以接受任何可迭代对象。例如min,max,sum等\n",
    "- 生成器构造新的可迭代对象是以延迟的方式返回一个值的序列，即每返回一个值之后暂停，直到下一个值被请求时再继续，创建生成器，只需将函数返回的return改为yeild即可\n",
    "- **生成器表达式是构建生成器的最简单方式，创建方式为：把列表推导式的方括号改为圆括号。**\n",
    "- 生成器可用于任何接受生成器的python函数"
   ]
  },
  {
   "cell_type": "code",
   "execution_count": 17,
   "metadata": {},
   "outputs": [
    {
     "name": "stdout",
     "output_type": "stream",
     "text": [
      "a\n",
      "b\n",
      "c\n"
     ]
    },
    {
     "data": {
      "text/plain": [
       "['a', 'b', 'c']"
      ]
     },
     "execution_count": 17,
     "metadata": {},
     "output_type": "execute_result"
    }
   ],
   "source": [
    "some_dict = {'a':1,'b':2,'c':3}\n",
    "for key in some_dict:\n",
    "    print (key,)\n",
    "\n",
    "dict_iterator = iter(some_dict)\n",
    "dict_iterator\n",
    "list(dict_iterator)"
   ]
  },
  {
   "cell_type": "code",
   "execution_count": 20,
   "metadata": {},
   "outputs": [
    {
     "name": "stdout",
     "output_type": "stream",
     "text": [
      "Generating squares from 1 to 100\n",
      "1\n",
      "Generating squares from 1 to 100\n",
      "4\n",
      "Generating squares from 1 to 100\n",
      "9\n",
      "Generating squares from 1 to 100\n",
      "16\n",
      "Generating squares from 1 to 100\n",
      "25\n",
      "Generating squares from 1 to 100\n",
      "36\n",
      "Generating squares from 1 to 100\n",
      "49\n",
      "Generating squares from 1 to 100\n",
      "64\n",
      "Generating squares from 1 to 100\n",
      "81\n",
      "Generating squares from 1 to 100\n",
      "100\n"
     ]
    }
   ],
   "source": [
    "def squares(n=10):\n",
    "    for i in range(1, n+1):\n",
    "        print('Generating squares from 1 to %d' %(n ** 2))\n",
    "        yield i ** 2\n",
    "gen = squares()\n",
    "gen\n",
    "for x in gen:\n",
    "    print(x)\n"
   ]
  },
  {
   "cell_type": "code",
   "execution_count": 22,
   "metadata": {},
   "outputs": [
    {
     "data": {
      "text/plain": [
       "<generator object _make_gen at 0x000001B7B46D2ED0>"
      ]
     },
     "execution_count": 22,
     "metadata": {},
     "output_type": "execute_result"
    }
   ],
   "source": [
    "# 生成器表达式\n",
    "gen = (x ** 2 for x in range(100))\n",
    "gen\n",
    "# 与下面的函数方法等价\n",
    "def _make_gen():\n",
    "    for x in range(100):\n",
    "        yield x ** 2\n",
    "gen = _make_gen()\n",
    "gen"
   ]
  },
  {
   "cell_type": "code",
   "execution_count": 26,
   "metadata": {},
   "outputs": [
    {
     "data": {
      "text/plain": [
       "{0: 0, 1: 1, 2: 4, 3: 9, 4: 16}"
      ]
     },
     "execution_count": 26,
     "metadata": {},
     "output_type": "execute_result"
    }
   ],
   "source": [
    "# sum、dict接受生成器表达式\n",
    "sum(x ** 2 for x in range(100))\n",
    "dict((i, i**2) for i in range(5))"
   ]
  },
  {
   "cell_type": "code",
   "execution_count": 35,
   "metadata": {},
   "outputs": [
    {
     "name": "stdout",
     "output_type": "stream",
     "text": [
      "--Return--\n",
      "> <ipython-input-35-2a858436e1da>(4)<module>()->None\n",
      "-> pdb.set_trace()\n",
      "(Pdb) c\n",
      "[10, 10, 10, 10, 10, 10, 10, 10, 10, 10]\n",
      "[10, 10, 10, 10, 10, 10, 10, 10, 10, 5, 5]\n",
      "[10, 10, 10, 10, 10, 10, 10, 10, 5, 5, 5, 5]\n",
      "[10, 10, 10, 10, 10, 10, 10, 5, 5, 5, 5, 5, 5]\n",
      "[10, 10, 10, 10, 10, 10, 5, 5, 5, 5, 5, 5, 5, 5]\n",
      "[10, 10, 10, 10, 10, 5, 5, 5, 5, 5, 5, 5, 5, 5, 5]\n",
      "[10, 10, 10, 10, 5, 5, 5, 5, 5, 5, 5, 5, 5, 5, 5, 5]\n",
      "[10, 10, 10, 5, 5, 5, 5, 5, 5, 5, 5, 5, 5, 5, 5, 5, 5]\n",
      "[10, 10, 5, 5, 5, 5, 5, 5, 5, 5, 5, 5, 5, 5, 5, 5, 5, 5]\n",
      "[10, 5, 5, 5, 5, 5, 5, 5, 5, 5, 5, 5, 5, 5, 5, 5, 5, 5, 5]\n",
      "[5, 5, 5, 5, 5, 5, 5, 5, 5, 5, 5, 5, 5, 5, 5, 5, 5, 5, 5, 5]\n",
      "[50, 10, 10, 10, 10, 10]\n",
      "[50, 10, 10, 10, 10, 5, 5]\n",
      "[50, 10, 10, 10, 5, 5, 5, 5]\n",
      "[50, 10, 10, 5, 5, 5, 5, 5, 5]\n",
      "[50, 10, 5, 5, 5, 5, 5, 5, 5, 5]\n",
      "[50, 5, 5, 5, 5, 5, 5, 5, 5, 5, 5]\n",
      "[50, 50]\n"
     ]
    }
   ],
   "source": [
    "# 生成器例子，将1美元=100美分，兑换成任意一组硬币的所有唯一方式。\n",
    "# 导入调试模块\n",
    "import pdb\n",
    "pdb.set_trace()\n",
    "def make_change(amount, coins=[1,5,10,25], hand=None):\n",
    "    hand = [] if hand is None else hand\n",
    "    if amount == 0:\n",
    "        yield hand\n",
    "    for coin in coins:\n",
    "        #确保我们给出的硬币没有超过总额，且组合是唯一的\n",
    "        if coin > amount or (len(hand) >0 and hand[-1] < coin):\n",
    "            continue\n",
    "        for result in make_change(amount - coin, coins=coins, hand =  hand + [coin]):\n",
    "            yield result\n",
    "for way in make_change(100, coins=[10,5,50]):\n",
    "    print(way)"
   ]
  },
  {
   "cell_type": "code",
   "execution_count": null,
   "metadata": {},
   "outputs": [],
   "source": []
  }
 ],
 "metadata": {
  "kernelspec": {
   "display_name": "Python 3",
   "language": "python",
   "name": "python3"
  },
  "language_info": {
   "codemirror_mode": {
    "name": "ipython",
    "version": 3
   },
   "file_extension": ".py",
   "mimetype": "text/x-python",
   "name": "python",
   "nbconvert_exporter": "python",
   "pygments_lexer": "ipython3",
   "version": "3.7.0"
  }
 },
 "nbformat": 4,
 "nbformat_minor": 2
}
