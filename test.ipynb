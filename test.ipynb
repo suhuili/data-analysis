{
 "cells": [
  {
   "cell_type": "code",
   "execution_count": 3,
   "metadata": {},
   "outputs": [
    {
     "name": "stdout",
     "output_type": "stream",
     "text": [
      "Number of Rows of Data = 208\nNumber of Columns of Data = 61\nCol#\tNumber\tStrings\t Other\n0\t\t208\t\t0\t\t0\n1\t\t208\t\t0\t\t0\n2\t\t208\t\t0\t\t0\n3\t\t208\t\t0\t\t0\n4\t\t208\t\t0\t\t0\n5\t\t208\t\t0\t\t0\n6\t\t208\t\t0\t\t0\n7\t\t208\t\t0\t\t0\n8\t\t208\t\t0\t\t0\n9\t\t208\t\t0\t\t0\n10\t\t208\t\t0\t\t0\n11\t\t208\t\t0\t\t0\n12\t\t208\t\t0\t\t0\n13\t\t208\t\t0\t\t0\n14\t\t208\t\t0\t\t0\n15\t\t208\t\t0\t\t0\n16\t\t208\t\t0\t\t0\n17\t\t208\t\t0\t\t0\n18\t\t208\t\t0\t\t0\n19\t\t208\t\t0\t\t0\n20\t\t208\t\t0\t\t0\n21\t\t208\t\t0\t\t0\n22\t\t208\t\t0\t\t0\n23\t\t208\t\t0\t\t0\n24\t\t208\t\t0\t\t0\n25\t\t208\t\t0\t\t0\n26\t\t208\t\t0\t\t0\n27\t\t208\t\t0\t\t0\n28\t\t208\t\t0\t\t0\n29\t\t208\t\t0\t\t0\n30\t\t208\t\t0\t\t0\n31\t\t208\t\t0\t\t0\n32\t\t208\t\t0\t\t0\n33\t\t208\t\t0\t\t0\n34\t\t208\t\t0\t\t0\n35\t\t208\t\t0\t\t0\n36\t\t208\t\t0\t\t0\n37\t\t208\t\t0\t\t0\n38\t\t208\t\t0\t\t0\n39\t\t208\t\t0\t\t0\n40\t\t208\t\t0\t\t0\n41\t\t208\t\t0\t\t0\n42\t\t208\t\t0\t\t0\n43\t\t208\t\t0\t\t0\n44\t\t208\t\t0\t\t0\n45\t\t208\t\t0\t\t0\n46\t\t208\t\t0\t\t0\n47\t\t208\t\t0\t\t0\n48\t\t208\t\t0\t\t0\n49\t\t208\t\t0\t\t0\n50\t\t208\t\t0\t\t0\n51\t\t208\t\t0\t\t0\n52\t\t208\t\t0\t\t0\n53\t\t208\t\t0\t\t0\n54\t\t208\t\t0\t\t0\n55\t\t208\t\t0\t\t0\n56\t\t208\t\t0\t\t0\n57\t\t208\t\t0\t\t0\n58\t\t208\t\t0\t\t0\n59\t\t208\t\t0\t\t0\n60\t\t0\t\t208\t\t0\n"
     ]
    },
    {
     "name": "stdout",
     "output_type": "stream",
     "text": [
      "Mean = \t0.053892307692307684\t\tStandard Deviation = \t 0.04641598322260027\n\nBoundaries for 4 Equal Percentiles \n[0.0058, 0.024375, 0.04405, 0.0645, 0.4264]\n\n\n Boundaries for 10 Equal percentiles \n[0.0058, 0.0141, 0.022740000000000003, 0.027869999999999995, 0.03622, 0.04405, 0.05071999999999999, 0.059959999999999986, 0.07794000000000001, 0.10836, 0.4264]\n\n\nUnique Lable values \n{'R', 'M'}\n{'R': 0, 'M': 1}\nCounts for each value of categorical label \n['R', 'M']\n[97, 111]\n"
     ]
    }
   ],
   "source": [
    "__author__ = 'susu'\n",
    "import urllib\n",
    "import numpy as np\n",
    "import sys\n",
    "import scipy.stats as stats\n",
    "import pylab\n",
    "#读取数据\n",
    "target_url = (\"https://archive.ics.uci.edu/ml/machine-learning-\"\n",
    "\"databases/undocumented/connectionist-bench/sonar/sonar.all-data\")\n",
    "data = urllib.request.urlopen(target_url)\n",
    "\n",
    "#分割数据\n",
    "xList = []\n",
    "labels = []\n",
    "for line in data:\n",
    "    #逗号分割\n",
    "    row = line.decode().strip().split(',')\n",
    "    xList.append(row)\n",
    "sys.stdout.write(\"Number of Rows of Data = \" + str(len(xList)) + '\\n')\n",
    "sys.stdout.write(\"Number of Columns of Data = \" + str(len(xList[1])) + '\\n')\n",
    "rownum = len( xList )\n",
    "column = len( xList[1] )\n",
    "\n",
    "type =  [0] * 3\n",
    "colCounts = []\n",
    "\n",
    "for col in range(column):\n",
    "    for row in xList:\n",
    "        try:\n",
    "            a = float(row[col])\n",
    "            if isinstance(a, float):\n",
    "                type[0] += 1\n",
    "        except ValueError:\n",
    "            if len(row[col]) > 0:\n",
    "                type[1] += 1\n",
    "            else:\n",
    "                type[2] += 1\n",
    "    colCounts.append(type)\n",
    "    type = [0] * 3\n",
    "\n",
    "sys.stdout.write(\"Col#\" + '\\t' + \"Number\" + '\\t' +\"Strings\" + '\\t ' + \"Other\\n\")\n",
    "iCol = 0\n",
    "for types in colCounts:\n",
    "    sys.stdout.write(str(iCol) + '\\t\\t' + str(types[0]) + '\\t\\t' + str(types[1]) + '\\t\\t' + str(types[2]) + \"\\n\")\n",
    "    iCol += 1\n",
    "\n",
    "#统计某一列的统计信息\n",
    "\n",
    "col = 3\n",
    "colData = []\n",
    "for row in xList:\n",
    "    colData.append(float(row[col]))\n",
    "\n",
    "stats.probplot(colData, dist=\"norm\", plot=pylab)\n",
    "pylab.show()\n",
    "colArray = np.array(colData)\n",
    "colMean = np.mean(colArray)\n",
    "colstd = np.std(colArray)\n",
    "sys.stdout.write(\"Mean = \" + '\\t' + str(colMean) + '\\t\\t' +\"Standard Deviation = \" + '\\t ' + str(colstd) + \"\\n\")\n",
    "\n",
    "#计算分位数 quantile boundaries\n",
    "ntiles = 4\n",
    "percentBdry = []\n",
    "for i in range(ntiles+1):\n",
    "    percentBdry.append(np.percentile(colArray, i*(100)/ntiles))\n",
    "\n",
    "sys.stdout.write(\"\\nBoundaries for 4 Equal Percentiles \\n\")\n",
    "print(percentBdry)\n",
    "\n",
    "sys.stdout.write(\"\\n\")\n",
    "\n",
    "ntiles = 10\n",
    "percentBdry = []\n",
    "for i in range(ntiles+1):\n",
    "    percentBdry.append(np.percentile(colArray,i*(100)/ntiles))\n",
    "\n",
    "sys.stdout.write(\"\\n Boundaries for 10 Equal percentiles \\n\")\n",
    "print(percentBdry)\n",
    "print(\"\\n\")\n",
    "\n",
    "#统计类别变量中的类别\n",
    "col = 60\n",
    "colData = []\n",
    "for row in xList:\n",
    "    colData.append(row[col])\n",
    "\n",
    "unique = set(colData)\n",
    "\n",
    "sys.stdout.write(\"Unique Lable values \\n\")\n",
    "print(unique)\n",
    "\n",
    "#统计类别变量中类别的个数\n",
    "catDict = dict(zip(list(unique),range(len(unique))))\n",
    "print(catDict)\n",
    "catCount = [0] * 2\n",
    "for elt in colData:\n",
    "    catCount[catDict[elt]] += 1\n",
    "\n",
    "sys.stdout.write(\"Counts for each value of categorical label \\n\")\n",
    "print(list(unique))\n",
    "print(catCount)"
   ]
  },
  {
   "cell_type": "code",
   "execution_count": 1,
   "metadata": {
    "collapsed": true
   },
   "outputs": [],
   "source": [
    "aaa = 7"
   ]
  },
  {
   "cell_type": "code",
   "execution_count": 2,
   "metadata": {},
   "outputs": [
    {
     "data": {
      "text/plain": [
       "7"
      ]
     },
     "execution_count": 2,
     "metadata": {},
     "output_type": "execute_result"
    }
   ],
   "source": [
    "aaa"
   ]
  },
  {
   "cell_type": "code",
   "execution_count": 1,
   "metadata": {},
   "outputs": [
    {
     "name": "stdout",
     "output_type": "stream",
     "text": [
      "Number of Rows of Data = 208\nNumber of Columns of Data = 61\nCol#\tNumber\tStrings\t Other\n0\t\t208\t\t0\t\t0\n1\t\t208\t\t0\t\t0\n2\t\t208\t\t0\t\t0\n3\t\t208\t\t0\t\t0\n4\t\t208\t\t0\t\t0\n5\t\t208\t\t0\t\t0\n6\t\t208\t\t0\t\t0\n7\t\t208\t\t0\t\t0\n8\t\t208\t\t0\t\t0\n9\t\t208\t\t0\t\t0\n10\t\t208\t\t0\t\t0\n11\t\t208\t\t0\t\t0\n12\t\t208\t\t0\t\t0\n13\t\t208\t\t0\t\t0\n14\t\t208\t\t0\t\t0\n15\t\t208\t\t0\t\t0\n16\t\t208\t\t0\t\t0\n17\t\t208\t\t0\t\t0\n18\t\t208\t\t0\t\t0\n19\t\t208\t\t0\t\t0\n20\t\t208\t\t0\t\t0\n21\t\t208\t\t0\t\t0\n22\t\t208\t\t0\t\t0\n23\t\t208\t\t0\t\t0\n24\t\t208\t\t0\t\t0\n25\t\t208\t\t0\t\t0\n26\t\t208\t\t0\t\t0\n27\t\t208\t\t0\t\t0\n28\t\t208\t\t0\t\t0\n29\t\t208\t\t0\t\t0\n30\t\t208\t\t0\t\t0\n31\t\t208\t\t0\t\t0\n32\t\t208\t\t0\t\t0\n33\t\t208\t\t0\t\t0\n34\t\t208\t\t0\t\t0\n35\t\t208\t\t0\t\t0\n36\t\t208\t\t0\t\t0\n37\t\t208\t\t0\t\t0\n38\t\t208\t\t0\t\t0\n39\t\t208\t\t0\t\t0\n40\t\t208\t\t0\t\t0\n41\t\t208\t\t0\t\t0\n42\t\t208\t\t0\t\t0\n43\t\t208\t\t0\t\t0\n44\t\t208\t\t0\t\t0\n45\t\t208\t\t0\t\t0\n46\t\t208\t\t0\t\t0\n47\t\t208\t\t0\t\t0\n48\t\t208\t\t0\t\t0\n49\t\t208\t\t0\t\t0\n50\t\t208\t\t0\t\t0\n51\t\t208\t\t0\t\t0\n52\t\t208\t\t0\t\t0\n53\t\t208\t\t0\t\t0\n54\t\t208\t\t0\t\t0\n55\t\t208\t\t0\t\t0\n56\t\t208\t\t0\t\t0\n57\t\t208\t\t0\t\t0\n58\t\t208\t\t0\t\t0\n59\t\t208\t\t0\t\t0\n60\t\t0\t\t208\t\t0\n"
     ]
    }
   ],
   "source": [
    "__author__ = 'susu'\n",
    "import urllib\n",
    "import numpy as np\n",
    "import sys\n",
    "\n",
    "#读取数据\n",
    "target_url = (\"https://archive.ics.uci.edu/ml/machine-learning-\"\n",
    "\"databases/undocumented/connectionist-bench/sonar/sonar.all-data\")\n",
    "data = urllib.request.urlopen(target_url)\n",
    "\n",
    "#分割数据\n",
    "xList = []\n",
    "labels = []\n",
    "for line in data:\n",
    "    #逗号分割\n",
    "    row = line.decode().strip().split(',')\n",
    "    xList.append(row)\n",
    "sys.stdout.write(\"Number of Rows of Data = \" + str(len(xList)) + '\\n')\n",
    "sys.stdout.write(\"Number of Columns of Data = \" + str(len(xList[1])) + '\\n')\n",
    "rownum = len( xList )\n",
    "column = len( xList[1] )\n",
    "\n",
    "type =  [0] * 3\n",
    "colCounts = []\n",
    "\n",
    "for col in range(column):\n",
    "    for row in xList:\n",
    "        try:\n",
    "            a = float(row[col])\n",
    "            if isinstance(a, float):\n",
    "                type[0] += 1\n",
    "        except ValueError:\n",
    "            if len(row[col]) > 0:\n",
    "                type[1] += 1\n",
    "            else:\n",
    "                type[2] += 1\n",
    "    colCounts.append(type)\n",
    "    type = [0] * 3\n",
    "\n",
    "sys.stdout.write(\"Col#\" + '\\t' + \"Number\" + '\\t' +\"Strings\" + '\\t ' + \"Other\\n\")\n",
    "iCol = 0\n",
    "for types in colCounts:\n",
    "    sys.stdout.write(str(iCol) + '\\t\\t' + str(types[0]) + '\\t\\t' + str(types[1]) + '\\t\\t' + str(types[2]) + \"\\n\")\n",
    "    iCol += 1\n",
    "\n",
    "#统计某一列的统计信息\n",
    "\n",
    "col = 3\n",
    "colData = []\n",
    "for row in xList:\n",
    "    colData.append(float(row[col]))\n",
    "\n",
    "colArray = np.array(colData)\n",
    "    \n",
    "\n",
    "\n",
    "\n"
   ]
  },
  {
   "cell_type": "code",
   "execution_count": 3,
   "metadata": {},
   "outputs": [
    {
     "data": {
      "text/plain": [
       "array([0.0207, 0.0689, 0.1083, 0.0205, 0.0394, 0.0174, 0.1408, 0.0319,\n       0.0475, 0.007 , 0.0336, 0.0313, 0.025 , 0.0489, 0.0449, 0.0921,\n       0.0469, 0.0774, 0.0278, 0.1732, 0.1252, 0.0372, 0.0297, 0.0076,\n       0.0173, 0.0062, 0.105 , 0.0394, 0.0371, 0.0622, 0.0569, 0.0432,\n       0.019 , 0.0581, 0.0831, 0.0569, 0.0359, 0.0481, 0.0206, 0.0505,\n       0.0444, 0.0064, 0.0286, 0.0339, 0.0239, 0.0604, 0.0889, 0.0225,\n       0.0452, 0.06  , 0.0272, 0.0311, 0.023 , 0.0062, 0.0141, 0.0245,\n       0.0263, 0.0152, 0.0097, 0.0175, 0.0456, 0.0289, 0.0445, 0.0058,\n       0.0494, 0.0285, 0.0084, 0.0293, 0.0406, 0.0139, 0.0108, 0.0387,\n       0.0211, 0.0108, 0.0378, 0.0239, 0.044 , 0.0539, 0.0304, 0.046 ,\n       0.0375, 0.0489, 0.013 , 0.0236, 0.035 , 0.1421, 0.0824, 0.0203,\n       0.056 , 0.0519, 0.0518, 0.0244, 0.0061, 0.0456, 0.0228, 0.0809,\n       0.0141, 0.127 , 0.4264, 0.0783, 0.1229, 0.118 , 0.1498, 0.0386,\n       0.0521, 0.1096, 0.0818, 0.0618, 0.0387, 0.0793, 0.1036, 0.2604,\n       0.1021, 0.0229, 0.0384, 0.0844, 0.0376, 0.0842, 0.021 , 0.0749,\n       0.0243, 0.0441, 0.076 , 0.0247, 0.0898, 0.0428, 0.0218, 0.0768,\n       0.0534, 0.1484, 0.1008, 0.0358, 0.0608, 0.166 , 0.0837, 0.1203,\n       0.1234, 0.0813, 0.1496, 0.0608, 0.0232, 0.1644, 0.1206, 0.0415,\n       0.1021, 0.1085, 0.0627, 0.1132, 0.1497, 0.0818, 0.0445, 0.0226,\n       0.0217, 0.0547, 0.0583, 0.045 , 0.0554, 0.0232, 0.0713, 0.0516,\n       0.0681, 0.0227, 0.0346, 0.0061, 0.0386, 0.0487, 0.0525, 0.0082,\n       0.0195, 0.0624, 0.0363, 0.0633, 0.0698, 0.0627, 0.0301, 0.0113,\n       0.0333, 0.033 , 0.0076, 0.0551, 0.0191, 0.0108, 0.0411, 0.0688,\n       0.0707, 0.0257, 0.0321, 0.0566, 0.0237, 0.0494, 0.0596, 0.0479,\n       0.0561, 0.0128, 0.0257, 0.0375, 0.045 , 0.025 , 0.0399, 0.0225,\n       0.0078, 0.057 , 0.0848, 0.0177, 0.0564, 0.0292, 0.0608, 0.0272])"
      ]
     },
     "execution_count": 3,
     "metadata": {},
     "output_type": "execute_result"
    }
   ],
   "source": [
    "colArray"
   ]
  },
  {
   "cell_type": "code",
   "execution_count": 4,
   "metadata": {},
   "outputs": [
    {
     "data": {
      "text/plain": [
       "array([0.207, 0.689, 1.083, 0.205, 0.394, 0.174, 1.408, 0.319, 0.475,\n       0.07 , 0.336, 0.313, 0.25 , 0.489, 0.449, 0.921, 0.469, 0.774,\n       0.278, 1.732, 1.252, 0.372, 0.297, 0.076, 0.173, 0.062, 1.05 ,\n       0.394, 0.371, 0.622, 0.569, 0.432, 0.19 , 0.581, 0.831, 0.569,\n       0.359, 0.481, 0.206, 0.505, 0.444, 0.064, 0.286, 0.339, 0.239,\n       0.604, 0.889, 0.225, 0.452, 0.6  , 0.272, 0.311, 0.23 , 0.062,\n       0.141, 0.245, 0.263, 0.152, 0.097, 0.175, 0.456, 0.289, 0.445,\n       0.058, 0.494, 0.285, 0.084, 0.293, 0.406, 0.139, 0.108, 0.387,\n       0.211, 0.108, 0.378, 0.239, 0.44 , 0.539, 0.304, 0.46 , 0.375,\n       0.489, 0.13 , 0.236, 0.35 , 1.421, 0.824, 0.203, 0.56 , 0.519,\n       0.518, 0.244, 0.061, 0.456, 0.228, 0.809, 0.141, 1.27 , 4.264,\n       0.783, 1.229, 1.18 , 1.498, 0.386, 0.521, 1.096, 0.818, 0.618,\n       0.387, 0.793, 1.036, 2.604, 1.021, 0.229, 0.384, 0.844, 0.376,\n       0.842, 0.21 , 0.749, 0.243, 0.441, 0.76 , 0.247, 0.898, 0.428,\n       0.218, 0.768, 0.534, 1.484, 1.008, 0.358, 0.608, 1.66 , 0.837,\n       1.203, 1.234, 0.813, 1.496, 0.608, 0.232, 1.644, 1.206, 0.415,\n       1.021, 1.085, 0.627, 1.132, 1.497, 0.818, 0.445, 0.226, 0.217,\n       0.547, 0.583, 0.45 , 0.554, 0.232, 0.713, 0.516, 0.681, 0.227,\n       0.346, 0.061, 0.386, 0.487, 0.525, 0.082, 0.195, 0.624, 0.363,\n       0.633, 0.698, 0.627, 0.301, 0.113, 0.333, 0.33 , 0.076, 0.551,\n       0.191, 0.108, 0.411, 0.688, 0.707, 0.257, 0.321, 0.566, 0.237,\n       0.494, 0.596, 0.479, 0.561, 0.128, 0.257, 0.375, 0.45 , 0.25 ,\n       0.399, 0.225, 0.078, 0.57 , 0.848, 0.177, 0.564, 0.292, 0.608,\n       0.272])"
      ]
     },
     "execution_count": 4,
     "metadata": {},
     "output_type": "execute_result"
    }
   ],
   "source": [
    "colArray * 10"
   ]
  },
  {
   "cell_type": "code",
   "execution_count": 5,
   "metadata": {},
   "outputs": [
    {
     "data": {
      "text/plain": [
       "[0.0207,\n 0.0689,\n 0.1083,\n 0.0205,\n 0.0394,\n 0.0174,\n 0.1408,\n 0.0319,\n 0.0475,\n 0.007,\n 0.0336,\n 0.0313,\n 0.025,\n 0.0489,\n 0.0449,\n 0.0921,\n 0.0469,\n 0.0774,\n 0.0278,\n 0.1732,\n 0.1252,\n 0.0372,\n 0.0297,\n 0.0076,\n 0.0173,\n 0.0062,\n 0.105,\n 0.0394,\n 0.0371,\n 0.0622,\n 0.0569,\n 0.0432,\n 0.019,\n 0.0581,\n 0.0831,\n 0.0569,\n 0.0359,\n 0.0481,\n 0.0206,\n 0.0505,\n 0.0444,\n 0.0064,\n 0.0286,\n 0.0339,\n 0.0239,\n 0.0604,\n 0.0889,\n 0.0225,\n 0.0452,\n 0.06,\n 0.0272,\n 0.0311,\n 0.023,\n 0.0062,\n 0.0141,\n 0.0245,\n 0.0263,\n 0.0152,\n 0.0097,\n 0.0175,\n 0.0456,\n 0.0289,\n 0.0445,\n 0.0058,\n 0.0494,\n 0.0285,\n 0.0084,\n 0.0293,\n 0.0406,\n 0.0139,\n 0.0108,\n 0.0387,\n 0.0211,\n 0.0108,\n 0.0378,\n 0.0239,\n 0.044,\n 0.0539,\n 0.0304,\n 0.046,\n 0.0375,\n 0.0489,\n 0.013,\n 0.0236,\n 0.035,\n 0.1421,\n 0.0824,\n 0.0203,\n 0.056,\n 0.0519,\n 0.0518,\n 0.0244,\n 0.0061,\n 0.0456,\n 0.0228,\n 0.0809,\n 0.0141,\n 0.127,\n 0.4264,\n 0.0783,\n 0.1229,\n 0.118,\n 0.1498,\n 0.0386,\n 0.0521,\n 0.1096,\n 0.0818,\n 0.0618,\n 0.0387,\n 0.0793,\n 0.1036,\n 0.2604,\n 0.1021,\n 0.0229,\n 0.0384,\n 0.0844,\n 0.0376,\n 0.0842,\n 0.021,\n 0.0749,\n 0.0243,\n 0.0441,\n 0.076,\n 0.0247,\n 0.0898,\n 0.0428,\n 0.0218,\n 0.0768,\n 0.0534,\n 0.1484,\n 0.1008,\n 0.0358,\n 0.0608,\n 0.166,\n 0.0837,\n 0.1203,\n 0.1234,\n 0.0813,\n 0.1496,\n 0.0608,\n 0.0232,\n 0.1644,\n 0.1206,\n 0.0415,\n 0.1021,\n 0.1085,\n 0.0627,\n 0.1132,\n 0.1497,\n 0.0818,\n 0.0445,\n 0.0226,\n 0.0217,\n 0.0547,\n 0.0583,\n 0.045,\n 0.0554,\n 0.0232,\n 0.0713,\n 0.0516,\n 0.0681,\n 0.0227,\n 0.0346,\n 0.0061,\n 0.0386,\n 0.0487,\n 0.0525,\n 0.0082,\n 0.0195,\n 0.0624,\n 0.0363,\n 0.0633,\n 0.0698,\n 0.0627,\n 0.0301,\n 0.0113,\n 0.0333,\n 0.033,\n 0.0076,\n 0.0551,\n 0.0191,\n 0.0108,\n 0.0411,\n 0.0688,\n 0.0707,\n 0.0257,\n 0.0321,\n 0.0566,\n 0.0237,\n 0.0494,\n 0.0596,\n 0.0479,\n 0.0561,\n 0.0128,\n 0.0257,\n 0.0375,\n 0.045,\n 0.025,\n 0.0399,\n 0.0225,\n 0.0078,\n 0.057,\n 0.0848,\n 0.0177,\n 0.0564,\n 0.0292,\n 0.0608,\n 0.0272]"
      ]
     },
     "execution_count": 5,
     "metadata": {},
     "output_type": "execute_result"
    }
   ],
   "source": [
    "colData"
   ]
  },
  {
   "cell_type": "code",
   "execution_count": 6,
   "metadata": {},
   "outputs": [],
   "source": [
    "colArray?"
   ]
  },
  {
   "cell_type": "code",
   "execution_count": 7,
   "metadata": {},
   "outputs": [],
   "source": [
    "colData?"
   ]
  },
  {
   "cell_type": "code",
   "execution_count": 8,
   "metadata": {},
   "outputs": [],
   "source": [
    "?colData"
   ]
  },
  {
   "cell_type": "code",
   "execution_count": 9,
   "metadata": {},
   "outputs": [
    {
     "data": {
      "text/plain": [
       "(208,)"
      ]
     },
     "execution_count": 9,
     "metadata": {},
     "output_type": "execute_result"
    }
   ],
   "source": [
    "colArray.shape"
   ]
  },
  {
   "cell_type": "code",
   "execution_count": 11,
   "metadata": {},
   "outputs": [
    {
     "data": {
      "text/plain": [
       "dtype('float64')"
      ]
     },
     "execution_count": 11,
     "metadata": {},
     "output_type": "execute_result"
    }
   ],
   "source": [
    "colArray.dtype"
   ]
  },
  {
   "cell_type": "code",
   "execution_count": 1,
   "metadata": {},
   "outputs": [
    {
     "name": "stdout",
     "output_type": "stream",
     "text": [
      "Number of Rows of Data = 208\nNumber of Columns of Data = 61\nCol#\tNumber\tStrings\t Other\n0\t\t208\t\t0\t\t0\n1\t\t208\t\t0\t\t0\n2\t\t208\t\t0\t\t0\n3\t\t208\t\t0\t\t0\n4\t\t208\t\t0\t\t0\n5\t\t208\t\t0\t\t0\n6\t\t208\t\t0\t\t0\n7\t\t208\t\t0\t\t0\n8\t\t208\t\t0\t\t0\n9\t\t208\t\t0\t\t0\n10\t\t208\t\t0\t\t0\n11\t\t208\t\t0\t\t0\n12\t\t208\t\t0\t\t0\n13\t\t208\t\t0\t\t0\n14\t\t208\t\t0\t\t0\n15\t\t208\t\t0\t\t0\n16\t\t208\t\t0\t\t0\n17\t\t208\t\t0\t\t0\n18\t\t208\t\t0\t\t0\n19\t\t208\t\t0\t\t0\n20\t\t208\t\t0\t\t0\n21\t\t208\t\t0\t\t0\n22\t\t208\t\t0\t\t0\n23\t\t208\t\t0\t\t0\n24\t\t208\t\t0\t\t0\n25\t\t208\t\t0\t\t0\n26\t\t208\t\t0\t\t0\n27\t\t208\t\t0\t\t0\n28\t\t208\t\t0\t\t0\n29\t\t208\t\t0\t\t0\n30\t\t208\t\t0\t\t0\n31\t\t208\t\t0\t\t0\n32\t\t208\t\t0\t\t0\n33\t\t208\t\t0\t\t0\n34\t\t208\t\t0\t\t0\n35\t\t208\t\t0\t\t0\n36\t\t208\t\t0\t\t0\n37\t\t208\t\t0\t\t0\n38\t\t208\t\t0\t\t0\n39\t\t208\t\t0\t\t0\n40\t\t208\t\t0\t\t0\n41\t\t208\t\t0\t\t0\n42\t\t208\t\t0\t\t0\n43\t\t208\t\t0\t\t0\n44\t\t208\t\t0\t\t0\n45\t\t208\t\t0\t\t0\n46\t\t208\t\t0\t\t0\n47\t\t208\t\t0\t\t0\n48\t\t208\t\t0\t\t0\n49\t\t208\t\t0\t\t0\n50\t\t208\t\t0\t\t0\n51\t\t208\t\t0\t\t0\n52\t\t208\t\t0\t\t0\n53\t\t208\t\t0\t\t0\n54\t\t208\t\t0\t\t0\n55\t\t208\t\t0\t\t0\n56\t\t208\t\t0\t\t0\n57\t\t208\t\t0\t\t0\n58\t\t208\t\t0\t\t0\n59\t\t208\t\t0\t\t0\n60\t\t0\t\t208\t\t0\n"
     ]
    },
    {
     "name": "stdout",
     "output_type": "stream",
     "text": [
      "Mean = \t0.053892307692307684\t\tStandard Deviation = \t 0.04641598322260027\n\nBoundaries for 4 Equal Percentiles \n[0.0058, 0.024375, 0.04405, 0.0645, 0.4264]\n\n\n Boundaries for 10 Equal percentiles \n[0.0058, 0.0141, 0.022740000000000003, 0.027869999999999995, 0.03622, 0.04405, 0.05071999999999999, 0.059959999999999986, 0.07794000000000001, 0.10836, 0.4264]\n\n\nUnique Lable values \n{'R', 'M'}\n{'R': 0, 'M': 1}\nCounts for each value of categorical label \n['R', 'M']\n[97, 111]\n"
     ]
    }
   ],
   "source": [
    "__author__ = 'susu'\n",
    "import urllib\n",
    "import numpy as np\n",
    "import sys\n",
    "import scipy.stats as stats\n",
    "import pylab\n",
    "#读取数据\n",
    "target_url = (\"https://archive.ics.uci.edu/ml/machine-learning-\"\n",
    "\"databases/undocumented/connectionist-bench/sonar/sonar.all-data\")\n",
    "data = urllib.request.urlopen(target_url)\n",
    "\n",
    "#分割数据\n",
    "xList = []\n",
    "labels = []\n",
    "for line in data:\n",
    "    #逗号分割\n",
    "    row = line.decode().strip().split(',')\n",
    "    xList.append(row)\n",
    "sys.stdout.write(\"Number of Rows of Data = \" + str(len(xList)) + '\\n')\n",
    "sys.stdout.write(\"Number of Columns of Data = \" + str(len(xList[1])) + '\\n')\n",
    "rownum = len( xList )\n",
    "column = len( xList[1] )\n",
    "\n",
    "type =  [0] * 3\n",
    "colCounts = []\n",
    "\n",
    "for col in range(column):\n",
    "    for row in xList:\n",
    "        try:\n",
    "            a = float(row[col])\n",
    "            if isinstance(a, float):\n",
    "                type[0] += 1\n",
    "        except ValueError:\n",
    "            if len(row[col]) > 0:\n",
    "                type[1] += 1\n",
    "            else:\n",
    "                type[2] += 1\n",
    "    colCounts.append(type)\n",
    "    type = [0] * 3\n",
    "\n",
    "sys.stdout.write(\"Col#\" + '\\t' + \"Number\" + '\\t' +\"Strings\" + '\\t ' + \"Other\\n\")\n",
    "iCol = 0\n",
    "for types in colCounts:\n",
    "    sys.stdout.write(str(iCol) + '\\t\\t' + str(types[0]) + '\\t\\t' + str(types[1]) + '\\t\\t' + str(types[2]) + \"\\n\")\n",
    "    iCol += 1\n",
    "\n",
    "#统计某一列的统计信息\n",
    "\n",
    "col = 3\n",
    "colData = []\n",
    "for row in xList:\n",
    "    colData.append(float(row[col]))\n",
    "\n",
    "stats.probplot(colData, dist=\"norm\", plot=pylab)\n",
    "pylab.show()\n",
    "colArray = np.array(colData)\n",
    "colMean = np.mean(colArray)\n",
    "colstd = np.std(colArray)\n",
    "sys.stdout.write(\"Mean = \" + '\\t' + str(colMean) + '\\t\\t' +\"Standard Deviation = \" + '\\t ' + str(colstd) + \"\\n\")\n",
    "\n",
    "#计算分位数 quantile boundaries\n",
    "ntiles = 4\n",
    "percentBdry = []\n",
    "for i in range(ntiles+1):\n",
    "    percentBdry.append(np.percentile(colArray, i*(100)/ntiles))\n",
    "\n",
    "sys.stdout.write(\"\\nBoundaries for 4 Equal Percentiles \\n\")\n",
    "print(percentBdry)\n",
    "\n",
    "sys.stdout.write(\"\\n\")\n",
    "\n",
    "ntiles = 10\n",
    "percentBdry = []\n",
    "for i in range(ntiles+1):\n",
    "    percentBdry.append(np.percentile(colArray,i*(100)/ntiles))\n",
    "\n",
    "sys.stdout.write(\"\\n Boundaries for 10 Equal percentiles \\n\")\n",
    "print(percentBdry)\n",
    "print(\"\\n\")\n",
    "\n",
    "#统计类别变量中的类别\n",
    "col = 60\n",
    "colData = []\n",
    "for row in xList:\n",
    "    colData.append(row[col])\n",
    "\n",
    "unique = set(colData)\n",
    "\n",
    "sys.stdout.write(\"Unique Lable values \\n\")\n",
    "print(unique)\n",
    "\n",
    "#统计类别变量中类别的个数\n",
    "catDict = dict(zip(list(unique),range(len(unique))))\n",
    "print(catDict)\n",
    "catCount = [0] * 2\n",
    "for elt in colData:\n",
    "    catCount[catDict[elt]] += 1\n",
    "\n",
    "sys.stdout.write(\"Counts for each value of categorical label \\n\")\n",
    "print(list(unique))\n",
    "print(catCount)"
   ]
  },
  {
   "cell_type": "code",
   "execution_count": 2,
   "metadata": {},
   "outputs": [
    {
     "name": "stdout",
     "output_type": "stream",
     "text": [
      "Number of Rows of Data = 208\nNumber of Columns of Data = 61\nCol#\tNumber\tStrings\t Other\n0\t\t208\t\t0\t\t0\n1\t\t208\t\t0\t\t0\n2\t\t208\t\t0\t\t0\n3\t\t208\t\t0\t\t0\n4\t\t208\t\t0\t\t0\n5\t\t208\t\t0\t\t0\n6\t\t208\t\t0\t\t0\n7\t\t208\t\t0\t\t0\n8\t\t208\t\t0\t\t0\n9\t\t208\t\t0\t\t0\n10\t\t208\t\t0\t\t0\n11\t\t208\t\t0\t\t0\n12\t\t208\t\t0\t\t0\n13\t\t208\t\t0\t\t0\n14\t\t208\t\t0\t\t0\n15\t\t208\t\t0\t\t0\n16\t\t208\t\t0\t\t0\n17\t\t208\t\t0\t\t0\n18\t\t208\t\t0\t\t0\n19\t\t208\t\t0\t\t0\n20\t\t208\t\t0\t\t0\n21\t\t208\t\t0\t\t0\n22\t\t208\t\t0\t\t0\n23\t\t208\t\t0\t\t0\n24\t\t208\t\t0\t\t0\n25\t\t208\t\t0\t\t0\n26\t\t208\t\t0\t\t0\n27\t\t208\t\t0\t\t0\n28\t\t208\t\t0\t\t0\n29\t\t208\t\t0\t\t0\n30\t\t208\t\t0\t\t0\n31\t\t208\t\t0\t\t0\n32\t\t208\t\t0\t\t0\n33\t\t208\t\t0\t\t0\n34\t\t208\t\t0\t\t0\n35\t\t208\t\t0\t\t0\n36\t\t208\t\t0\t\t0\n37\t\t208\t\t0\t\t0\n38\t\t208\t\t0\t\t0\n39\t\t208\t\t0\t\t0\n40\t\t208\t\t0\t\t0\n41\t\t208\t\t0\t\t0\n42\t\t208\t\t0\t\t0\n43\t\t208\t\t0\t\t0\n44\t\t208\t\t0\t\t0\n45\t\t208\t\t0\t\t0\n46\t\t208\t\t0\t\t0\n47\t\t208\t\t0\t\t0\n48\t\t208\t\t0\t\t0\n49\t\t208\t\t0\t\t0\n50\t\t208\t\t0\t\t0\n51\t\t208\t\t0\t\t0\n52\t\t208\t\t0\t\t0\n53\t\t208\t\t0\t\t0\n54\t\t208\t\t0\t\t0\n55\t\t208\t\t0\t\t0\n56\t\t208\t\t0\t\t0\n57\t\t208\t\t0\t\t0\n58\t\t208\t\t0\t\t0\n59\t\t208\t\t0\t\t0\n60\t\t0\t\t208\t\t0\n"
     ]
    },
    {
     "name": "stdout",
     "output_type": "stream",
     "text": [
      "Mean = \t0.053892307692307684\t\tStandard Deviation = \t 0.04641598322260027\n\nBoundaries for 4 Equal Percentiles \n[0.0058, 0.024375, 0.04405, 0.0645, 0.4264]\n\n\n Boundaries for 10 Equal percentiles \n[0.0058, 0.0141, 0.022740000000000003, 0.027869999999999995, 0.03622, 0.04405, 0.05071999999999999, 0.059959999999999986, 0.07794000000000001, 0.10836, 0.4264]\n\n\nUnique Lable values \n{'R', 'M'}\n{'R': 0, 'M': 1}\nCounts for each value of categorical label \n['R', 'M']\n[97, 111]\n"
     ]
    }
   ],
   "source": [
    "__author__ = 'susu'\n",
    "import urllib\n",
    "import numpy as np\n",
    "import sys\n",
    "import scipy.stats as stats\n",
    "import pylab\n",
    "#读取数据\n",
    "target_url = (\"https://archive.ics.uci.edu/ml/machine-learning-\"\n",
    "\"databases/undocumented/connectionist-bench/sonar/sonar.all-data\")\n",
    "data = urllib.request.urlopen(target_url)\n",
    "\n",
    "#分割数据\n",
    "xList = []\n",
    "labels = []\n",
    "for line in data:\n",
    "    #逗号分割\n",
    "    row = line.decode().strip().split(',')\n",
    "    xList.append(row)\n",
    "sys.stdout.write(\"Number of Rows of Data = \" + str(len(xList)) + '\\n')\n",
    "sys.stdout.write(\"Number of Columns of Data = \" + str(len(xList[1])) + '\\n')\n",
    "rownum = len( xList )\n",
    "column = len( xList[1] )\n",
    "\n",
    "type =  [0] * 3\n",
    "colCounts = []\n",
    "\n",
    "for col in range(column):\n",
    "    for row in xList:\n",
    "        try:\n",
    "            a = float(row[col])\n",
    "            if isinstance(a, float):\n",
    "                type[0] += 1\n",
    "        except ValueError:\n",
    "            if len(row[col]) > 0:\n",
    "                type[1] += 1\n",
    "            else:\n",
    "                type[2] += 1\n",
    "    colCounts.append(type)\n",
    "    type = [0] * 3\n",
    "\n",
    "sys.stdout.write(\"Col#\" + '\\t' + \"Number\" + '\\t' +\"Strings\" + '\\t ' + \"Other\\n\")\n",
    "iCol = 0\n",
    "for types in colCounts:\n",
    "    sys.stdout.write(str(iCol) + '\\t\\t' + str(types[0]) + '\\t\\t' + str(types[1]) + '\\t\\t' + str(types[2]) + \"\\n\")\n",
    "    iCol += 1\n",
    "\n",
    "#统计某一列的统计信息\n",
    "\n",
    "col = 3\n",
    "colData = []\n",
    "for row in xList:\n",
    "    colData.append(float(row[col]))\n",
    "\n",
    "stats.probplot(colData, dist=\"norm\", plot=pylab)\n",
    "pylab.show()\n",
    "colArray = np.array(colData)\n",
    "colMean = np.mean(colArray)\n",
    "colstd = np.std(colArray)\n",
    "sys.stdout.write(\"Mean = \" + '\\t' + str(colMean) + '\\t\\t' +\"Standard Deviation = \" + '\\t ' + str(colstd) + \"\\n\")\n",
    "\n",
    "#计算分位数 quantile boundaries\n",
    "ntiles = 4\n",
    "percentBdry = []\n",
    "for i in range(ntiles+1):\n",
    "    percentBdry.append(np.percentile(colArray, i*(100)/ntiles))\n",
    "\n",
    "sys.stdout.write(\"\\nBoundaries for 4 Equal Percentiles \\n\")\n",
    "print(percentBdry)\n",
    "\n",
    "sys.stdout.write(\"\\n\")\n",
    "\n",
    "ntiles = 10\n",
    "percentBdry = []\n",
    "for i in range(ntiles+1):\n",
    "    percentBdry.append(np.percentile(colArray,i*(100)/ntiles))\n",
    "\n",
    "sys.stdout.write(\"\\n Boundaries for 10 Equal percentiles \\n\")\n",
    "print(percentBdry)\n",
    "print(\"\\n\")\n",
    "\n",
    "#统计类别变量中的类别\n",
    "col = 60\n",
    "colData = []\n",
    "for row in xList:\n",
    "    colData.append(row[col])\n",
    "\n",
    "unique = set(colData)\n",
    "\n",
    "sys.stdout.write(\"Unique Lable values \\n\")\n",
    "print(unique)\n",
    "\n",
    "#统计类别变量中类别的个数\n",
    "catDict = dict(zip(list(unique),range(len(unique))))\n",
    "print(catDict)\n",
    "catCount = [0] * 2\n",
    "for elt in colData:\n",
    "    catCount[catDict[elt]] += 1\n",
    "\n",
    "sys.stdout.write(\"Counts for each value of categorical label \\n\")\n",
    "print(list(unique))\n",
    "print(catCount)"
   ]
  }
 ],
 "metadata": {
  "kernelspec": {
   "display_name": "Python 2",
   "language": "python",
   "name": "python2"
  },
  "language_info": {
   "codemirror_mode": {
    "name": "ipython",
    "version": 2
   },
   "file_extension": ".py",
   "mimetype": "text/x-python",
   "name": "python",
   "nbconvert_exporter": "python",
   "pygments_lexer": "ipython2",
   "version": "2.7.6"
  }
 },
 "nbformat": 4,
 "nbformat_minor": 0
}
